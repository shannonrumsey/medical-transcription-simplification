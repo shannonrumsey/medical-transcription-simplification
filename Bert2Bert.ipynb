{
 "cells": [
  {
   "cell_type": "markdown",
   "id": "4ce8ae18-918e-42c1-a154-18fd4ef68d57",
   "metadata": {},
   "source": [
    "### Bert2Bert for Summarization\n",
    "Referencing https://huggingface.co/patrickvonplaten/bert2bert_cnn_daily_mail"
   ]
  },
  {
   "cell_type": "code",
   "execution_count": 20,
   "id": "d8eb7b0d-0c5e-47d7-b7da-37c8d26457d2",
   "metadata": {},
   "outputs": [],
   "source": [
    "# import libraries\n",
    "import pandas as pd\n",
    "from transformers import AutoTokenizer, EncoderDecoderModel"
   ]
  },
  {
   "cell_type": "code",
   "execution_count": 39,
   "id": "e0a45e05-3488-4cc1-b6c1-32fece59e90d",
   "metadata": {},
   "outputs": [],
   "source": [
    "# read transcriptions with definition replacement\n",
    "defs = pd.read_csv('inputs/transcripts_with_definitions_100.csv')\n",
    "\n",
    "# read original transcriptions\n",
    "transcript = pd.read_csv('inputs/clean_transcriptions.csv')\n",
    "\n",
    "defs = defs.drop('Unnamed: 0', axis = 1).rename({'transcription': 'defs'}, axis = 'columns')\n",
    "tr = transcript.head(100).join(defs.head(100))"
   ]
  },
  {
   "cell_type": "code",
   "execution_count": 40,
   "id": "39a20570-dfe2-494c-a5f7-951ac3d29c2b",
   "metadata": {},
   "outputs": [],
   "source": [
    "# load pre-trained model and tokenizer\n",
    "model = EncoderDecoderModel.from_pretrained(\"patrickvonplaten/bert2bert_cnn_daily_mail\", max_length = 2664)\n",
    "tokenizer = AutoTokenizer.from_pretrained(\"patrickvonplaten/bert2bert_cnn_daily_mail\", model_max_length = 2664)"
   ]
  },
  {
   "cell_type": "markdown",
   "id": "f416ed31-1a9c-4c00-a104-81f1f7d6d320",
   "metadata": {},
   "source": [
    "### Functions for implementing model"
   ]
  },
  {
   "cell_type": "code",
   "execution_count": 41,
   "id": "bbf97d7e-578f-44aa-b4a7-44c5e419392c",
   "metadata": {},
   "outputs": [],
   "source": [
    "def summarizer(text):\n",
    "    input_ids = tokenizer(text, return_tensors=\"pt\").input_ids\n",
    "    # autoregressively generate summary (uses greedy decoding by default)\n",
    "    generated_ids = model.generate(input_ids)\n",
    "    generated_text = tokenizer.batch_decode(generated_ids, skip_special_tokens=True)[0]\n",
    "    return generated_text"
   ]
  },
  {
   "cell_type": "code",
   "execution_count": 52,
   "id": "e5cf9c0c-6090-482c-b413-8be898be6c98",
   "metadata": {},
   "outputs": [],
   "source": [
    "def truncate(text):\n",
    "    return text[:1024]"
   ]
  },
  {
   "cell_type": "markdown",
   "id": "2331526a-f205-406b-bd41-3e46c331492c",
   "metadata": {},
   "source": [
    "### Summarize the definition replaced text using the pre-trained model"
   ]
  },
  {
   "cell_type": "code",
   "execution_count": 53,
   "id": "fa4965c3-52c8-47de-b0e6-5c243f704563",
   "metadata": {},
   "outputs": [],
   "source": [
    "tr = tr.dropna(axis = 0).reset_index().drop('index', axis = 1)\n",
    "lst = list()\n",
    "for i in range(len(tr['defs'])):\n",
    "    # truncate the sequences so that the model can parse\n",
    "    sequence = truncate(tr['defs'][i])\n",
    "    # add new lines for better formatting when printing\n",
    "    lst.append(summarizer(sequence))\n",
    "\n",
    "df = pd.DataFrame(lst)\n",
    "final_df = tr.join(df).rename({0:'summary'}, axis = 'columns')\n"
   ]
  },
  {
   "cell_type": "markdown",
   "id": "37928502-62ab-4d8b-b6c6-70cdc12f875d",
   "metadata": {},
   "source": [
    "### Determine Reading Level of the original transcription and the new summary\n",
    "https://stackoverflow.com/questions/46759492/syllable-count-in-python"
   ]
  },
  {
   "cell_type": "code",
   "execution_count": 54,
   "id": "55f100ec-9861-45ec-94f5-75a8c2861a64",
   "metadata": {},
   "outputs": [],
   "source": [
    "# find syllables in sentences\n",
    "import re\n",
    "\n",
    "def syllable(text):\n",
    "    syllable_count = 0\n",
    "    word_lst = text.split(' ')\n",
    "    for word in word_lst:\n",
    "        syllable_count += len(re.findall('(?!e$)[aeiouy]+', word, re.I) +re.findall('^[^aeiouy]*e$', word, re.I))\n",
    "    return syllable_count"
   ]
  },
  {
   "cell_type": "code",
   "execution_count": 55,
   "id": "cab8f494-411d-4564-9c14-42b7ff1ead11",
   "metadata": {},
   "outputs": [],
   "source": [
    "def word_count(text):\n",
    "    word_lst = text.split(' ')\n",
    "    words = len(word_lst)\n",
    "    return words"
   ]
  },
  {
   "cell_type": "code",
   "execution_count": 56,
   "id": "d48f78e6-6716-475b-a9c5-fd5b614354ec",
   "metadata": {},
   "outputs": [],
   "source": [
    "def sent_count(text):\n",
    "    sent_lst = text.split('.')\n",
    "    sents = len(sent_lst)\n",
    "    return sents"
   ]
  },
  {
   "cell_type": "code",
   "execution_count": 57,
   "id": "0441cfb7-0b6b-415b-bb1a-0feec118a383",
   "metadata": {},
   "outputs": [],
   "source": [
    "def flesch(word_count, sent_count, syllable_count):\n",
    "    score = 206.835 - 1.015 * (word_count / sent_count) - 84.6 * (syllable_count / word_count)\n",
    "    return score"
   ]
  },
  {
   "cell_type": "code",
   "execution_count": 58,
   "id": "f93f7364-c206-437f-8691-3193b04f198a",
   "metadata": {},
   "outputs": [],
   "source": [
    "def reading_level(score):\n",
    "    if score < 100 and score > 90:\n",
    "        return '5th grade'\n",
    "    if score < 90 and score > 80:\n",
    "        return '6th grade'\n",
    "    if score < 80 and score > 70:\n",
    "        return '7th grade'\n",
    "    if score < 70 and score > 60:\n",
    "        return '8th and 9th grade'\n",
    "    if score < 60 and score > 50:\n",
    "        return '10th to 12th grade'\n",
    "    if score < 50 and score > 30:\n",
    "        return 'College'\n",
    "    if score < 30 and score > 10:\n",
    "        return 'College Graduate'\n",
    "    else:\n",
    "        return 'Professional'\n",
    "    "
   ]
  },
  {
   "cell_type": "code",
   "execution_count": 59,
   "id": "8860da13-4561-4e34-9057-ac16dd7f2be6",
   "metadata": {},
   "outputs": [],
   "source": [
    "# finds syllable count and word count of each row\n",
    "scores = list()\n",
    "level = list()\n",
    "for i in range(len(final_df['transcription'])):\n",
    "    syllables = syllable(final_df['transcription'][i])\n",
    "    words = word_count(final_df['transcription'][i])\n",
    "    sentences = sent_count(final_df['transcription'][i])\n",
    "    # flesch score test\n",
    "    score = (flesch(words, sentences, syllables))\n",
    "    scores.append(score)\n",
    "    level.append(reading_level(score))\n",
    "\n",
    "\n",
    "final_df = final_df.join(pd.DataFrame({'t_scores': scores}))\n",
    "final_df = final_df.join(pd.DataFrame({'t_level': level}))"
   ]
  },
  {
   "cell_type": "code",
   "execution_count": 60,
   "id": "b958a0ae-3232-405f-939b-9daf77efbb2a",
   "metadata": {},
   "outputs": [],
   "source": [
    "scores = list()\n",
    "level = list()\n",
    "for i in range(len(final_df['summary'])):\n",
    "    syllables = syllable(final_df['summary'][i])\n",
    "    words = word_count(final_df['summary'][i])\n",
    "    sentences = sent_count(final_df['summary'][i])\n",
    "    score = (flesch(words, sentences, syllables))\n",
    "    scores.append(score)\n",
    "    level.append(reading_level(score))\n",
    "\n",
    "\n",
    "final_df = final_df.join(pd.DataFrame({'s_scores': scores}))\n",
    "final_df = final_df.join(pd.DataFrame({'s_level': level}))"
   ]
  },
  {
   "cell_type": "code",
   "execution_count": 61,
   "id": "f87aa8bb-30d8-48da-a0f5-9517977a8d67",
   "metadata": {},
   "outputs": [
    {
     "name": "stdout",
     "output_type": "stream",
     "text": [
      "                                        transcription  \\\n",
      "0   SUBJECTIVE:,  This 23-year-old white female pr...   \n",
      "1   PAST MEDICAL HISTORY:, He has difficulty climb...   \n",
      "2   HISTORY OF PRESENT ILLNESS: , I have seen ABC ...   \n",
      "3   2-D M-MODE: , ,1.  Left atrial enlargement wit...   \n",
      "4   1.  The left ventricular cavity size and wall ...   \n",
      "..                                                ...   \n",
      "93  PREOPERATIVE DIAGNOSIS:,  Left inguinal hernia...   \n",
      "94  PREOPERATIVE DIAGNOSIS: , Benign prostatic hyp...   \n",
      "95  PREOPERATIVE DIAGNOSIS: , Inguinal hernia.,POS...   \n",
      "96  PROCEDURE PERFORMED: , Inguinal herniorrhaphy....   \n",
      "97  PREOPERATIVE DIAGNOSIS:,  Bilateral inguinal h...   \n",
      "\n",
      "                                                 defs  \\\n",
      "0   SUBJECTIVE:,  This 23-year-old white female pr...   \n",
      "1   PAST MEDICAL HISTORY:, He has difficulty climb...   \n",
      "2   HISTORY OF PRESENT ILLNESS: , I have seen ABC ...   \n",
      "3   2-D M-MODE: , ,1.  Left atrial enlargement wit...   \n",
      "4   1.  The left ventricular cavity size and wall ...   \n",
      "..                                                ...   \n",
      "93  PREOPERATIVE DIAGNOSIS:,  Left inguinal hernia...   \n",
      "94  PREOPERATIVE DIAGNOSIS: , Benign prostatic hyp...   \n",
      "95  PREOPERATIVE DIAGNOSIS: , Inguinal hernia.,POS...   \n",
      "96  PROCEDURE PERFORMED: , Inguinal herniorrhaphy....   \n",
      "97  PREOPERATIVE DIAGNOSIS:,  Bilateral inguinal h...   \n",
      "\n",
      "                                              summary   t_scores  \\\n",
      "0   the 23 - year - old white female has a disease...  71.439074   \n",
      "1   he has muscle and a junction in the body where...  51.142509   \n",
      "2   a healthy bmi is defined as 185 to 249 bmi. he...  70.788744   \n",
      "3   left atrial diameter of the heart is in the ra...  69.984393   \n",
      "4   left ventricular systolic function appears hyp...  48.570537   \n",
      "..                                                ...        ...   \n",
      "93  the patient was electively taken to the operat...  46.332719   \n",
      "94  the 67 - year - old male with a history of tur...  51.404693   \n",
      "95  preoperative antibiotics were given for steps ...  39.828663   \n",
      "96  inguinal a cut made into the skin or an organ ...  42.560538   \n",
      "97  the patient was taken to the operating room an...  27.693846   \n",
      "\n",
      "               t_level   s_scores            s_level  \n",
      "0            7th grade  64.009762  8th and 9th grade  \n",
      "1   10th to 12th grade  72.850191          7th grade  \n",
      "2            7th grade  70.590316          7th grade  \n",
      "3    8th and 9th grade  91.844422          5th grade  \n",
      "4              College  85.206023          6th grade  \n",
      "..                 ...        ...                ...  \n",
      "93             College  49.198931            College  \n",
      "94  10th to 12th grade  70.091046          7th grade  \n",
      "95             College  22.456250   College Graduate  \n",
      "96             College  39.539286            College  \n",
      "97    College Graduate  30.742500            College  \n",
      "\n",
      "[98 rows x 7 columns]\n"
     ]
    }
   ],
   "source": [
    "print(final_df)"
   ]
  },
  {
   "cell_type": "code",
   "execution_count": 62,
   "id": "c7e8bd48-a2fd-42e3-b7bf-801a879d60c2",
   "metadata": {},
   "outputs": [],
   "source": [
    "final_df.to_csv('final_df.csv')"
   ]
  }
 ],
 "metadata": {
  "kernelspec": {
   "display_name": "Python 3 (ipykernel)",
   "language": "python",
   "name": "python3"
  },
  "language_info": {
   "codemirror_mode": {
    "name": "ipython",
    "version": 3
   },
   "file_extension": ".py",
   "mimetype": "text/x-python",
   "name": "python",
   "nbconvert_exporter": "python",
   "pygments_lexer": "ipython3",
   "version": "3.8.16"
  }
 },
 "nbformat": 4,
 "nbformat_minor": 5
}
